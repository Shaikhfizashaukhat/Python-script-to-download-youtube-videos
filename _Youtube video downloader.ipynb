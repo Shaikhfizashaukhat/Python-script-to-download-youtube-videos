{
 "cells": [
  {
   "cell_type": "code",
   "execution_count": 1,
   "id": "57c6d873",
   "metadata": {},
   "outputs": [
    {
     "name": "stdout",
     "output_type": "stream",
     "text": [
      "Requirement already satisfied: pytube3 in c:\\users\\fiza3\\anaconda3\\lib\\site-packages (9.6.4)\n",
      "Requirement already satisfied: typing-extensions in c:\\users\\fiza3\\anaconda3\\lib\\site-packages (from pytube3) (4.7.1)\n",
      "Note: you may need to restart the kernel to use updated packages.\n"
     ]
    }
   ],
   "source": [
    "pip install pytube3"
   ]
  },
  {
   "cell_type": "code",
   "execution_count": 2,
   "id": "a7ea9726",
   "metadata": {},
   "outputs": [
    {
     "name": "stdout",
     "output_type": "stream",
     "text": [
      "Requirement already satisfied: pytube in c:\\users\\fiza3\\anaconda3\\lib\\site-packages (15.0.0)\n",
      "Note: you may need to restart the kernel to use updated packages.\n"
     ]
    }
   ],
   "source": [
    "pip install --upgrade pytube"
   ]
  },
  {
   "cell_type": "code",
   "execution_count": 5,
   "id": "1a16ee2a",
   "metadata": {},
   "outputs": [
    {
     "name": "stdout",
     "output_type": "stream",
     "text": [
      "Requirement already satisfied: yt-dlp in c:\\users\\fiza3\\anaconda3\\lib\\site-packages (2024.8.6)\n",
      "Requirement already satisfied: brotli in c:\\users\\fiza3\\anaconda3\\lib\\site-packages (from yt-dlp) (1.1.0)\n",
      "Requirement already satisfied: certifi in c:\\users\\fiza3\\anaconda3\\lib\\site-packages (from yt-dlp) (2023.7.22)\n",
      "Requirement already satisfied: mutagen in c:\\users\\fiza3\\anaconda3\\lib\\site-packages (from yt-dlp) (1.47.0)\n",
      "Requirement already satisfied: pycryptodomex in c:\\users\\fiza3\\anaconda3\\lib\\site-packages (from yt-dlp) (3.20.0)\n",
      "Requirement already satisfied: requests<3,>=2.32.2 in c:\\users\\fiza3\\anaconda3\\lib\\site-packages (from yt-dlp) (2.32.3)\n",
      "Requirement already satisfied: urllib3<3,>=1.26.17 in c:\\users\\fiza3\\anaconda3\\lib\\site-packages (from yt-dlp) (2.2.2)\n",
      "Requirement already satisfied: websockets>=12.0 in c:\\users\\fiza3\\anaconda3\\lib\\site-packages (from yt-dlp) (13.0.1)\n",
      "Requirement already satisfied: charset-normalizer<4,>=2 in c:\\users\\fiza3\\anaconda3\\lib\\site-packages (from requests<3,>=2.32.2->yt-dlp) (2.0.4)\n",
      "Requirement already satisfied: idna<4,>=2.5 in c:\\users\\fiza3\\anaconda3\\lib\\site-packages (from requests<3,>=2.32.2->yt-dlp) (3.4)\n",
      "Note: you may need to restart the kernel to use updated packages.\n"
     ]
    }
   ],
   "source": [
    "pip install yt-dlp"
   ]
  },
  {
   "cell_type": "code",
   "execution_count": 6,
   "id": "1e3b2f43",
   "metadata": {},
   "outputs": [],
   "source": [
    "from pytube import YouTube"
   ]
  },
  {
   "cell_type": "code",
   "execution_count": 7,
   "id": "c803f3ed",
   "metadata": {},
   "outputs": [
    {
     "name": "stdout",
     "output_type": "stream",
     "text": [
      "Enter youtube videohttps://youtu.be/7NSBJODvxro?si=jyOBXVpwVVm4rEYJ\n"
     ]
    }
   ],
   "source": [
    "link=input(\"Enter youtube video\")\n",
    "yt=YouTube(link)\n"
   ]
  },
  {
   "cell_type": "code",
   "execution_count": 8,
   "id": "0900c7be",
   "metadata": {},
   "outputs": [
    {
     "name": "stdout",
     "output_type": "stream",
     "text": [
      "Title: Kya Haseen Sama Hoga | Hajj Kalam 2022 Beautiful Nasheed | Hajj Special Nasheed\n",
      "Views: 50932\n",
      "Duration: 231\n",
      "Description: None\n",
      "Ratings: None\n"
     ]
    }
   ],
   "source": [
    "#To print title\n",
    "print(\"Title:\",yt.title)\n",
    "# To get number of views\n",
    "print(\"Views:\",yt.views)\n",
    "#To get the lengeth of the video\n",
    "print(\"Duration:\",yt.length)\n",
    "#To get Description\n",
    "print(\"Description:\",yt.description)\n",
    "#To get ratings\n",
    "print(\"Ratings:\",yt.rating)"
   ]
  },
  {
   "cell_type": "code",
   "execution_count": 13,
   "id": "830f4583",
   "metadata": {},
   "outputs": [
    {
     "name": "stdout",
     "output_type": "stream",
     "text": [
      "Do you want to download this video? (yes/no): yes\n",
      "Downloading...\n",
      "[youtube] Extracting URL: https://youtu.be/7NSBJODvxro?si=jyOBXVpwVVm4rEYJ\n",
      "[youtube] 7NSBJODvxro: Downloading webpage\n",
      "[youtube] 7NSBJODvxro: Downloading ios player API JSON\n",
      "[youtube] 7NSBJODvxro: Downloading web creator player API JSON\n",
      "[youtube] 7NSBJODvxro: Downloading m3u8 information\n",
      "[info] 7NSBJODvxro: Downloading 1 format(s): 18\n",
      "[download] Destination: Kya Haseen Sama Hoga ｜ Hajj Kalam 2022 Beautiful Nasheed ｜ Hajj Special Nasheed [7NSBJODvxro].mp4\n",
      "[download] 100% of   18.79MiB in 00:00:06 at 3.05MiB/s     \n",
      "Download completed.\n"
     ]
    }
   ],
   "source": [
    "from yt_dlp import YoutubeDL\n",
    "\n",
    "# Ask user if they want to download the video\n",
    "download_option = input(\"Do you want to download this video? (yes/no): \").lower()\n",
    "\n",
    "if download_option == \"yes\":\n",
    "    # URL of the video\n",
    "    url ='https://youtu.be/7NSBJODvxro?si=jyOBXVpwVVm4rEYJ'\n",
    "    \n",
    "    # Options for downloading the best quality\n",
    "    ydl_opts = {'format': 'best'}\n",
    "    \n",
    "    # Start the download process\n",
    "    with YoutubeDL(ydl_opts) as ydl:\n",
    "        print(\"Downloading...\")\n",
    "        ydl.download([url])\n",
    "        print(\"Download completed.\")\n",
    "else:\n",
    "    print(\"Download aborted.\")\n"
   ]
  },
  {
   "cell_type": "code",
   "execution_count": 14,
   "id": "f1e616d3",
   "metadata": {},
   "outputs": [
    {
     "data": {
      "text/plain": [
       "'C:\\\\Users\\\\fiza3'"
      ]
     },
     "execution_count": 14,
     "metadata": {},
     "output_type": "execute_result"
    }
   ],
   "source": [
    "import os\n",
    "os.getcwd()"
   ]
  },
  {
   "cell_type": "code",
   "execution_count": 11,
   "id": "0937f6f1",
   "metadata": {},
   "outputs": [],
   "source": [
    "#done"
   ]
  }
 ],
 "metadata": {
  "kernelspec": {
   "display_name": "Python 3 (ipykernel)",
   "language": "python",
   "name": "python3"
  },
  "language_info": {
   "codemirror_mode": {
    "name": "ipython",
    "version": 3
   },
   "file_extension": ".py",
   "mimetype": "text/x-python",
   "name": "python",
   "nbconvert_exporter": "python",
   "pygments_lexer": "ipython3",
   "version": "3.11.5"
  }
 },
 "nbformat": 4,
 "nbformat_minor": 5
}
